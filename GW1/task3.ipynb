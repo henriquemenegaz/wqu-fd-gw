{
 "cells": [
  {
   "cell_type": "code",
   "execution_count": 32,
   "metadata": {},
   "outputs": [],
   "source": [
    "import numpy as np\n",
    "import pandas as pd\n",
    "from sklearn.preprocessing import StandardScaler\n",
    "from sklearn.decomposition import PCA\n",
    "from matplotlib import pyplot as plt\n",
    "import os\n",
    "from dotenv import load_dotenv\n",
    "from fredapi import Fred\n"
   ]
  },
  {
   "cell_type": "markdown",
   "metadata": {},
   "source": [
    "## TAKS 3. Exploiting Correlation"
   ]
  },
  {
   "cell_type": "markdown",
   "metadata": {},
   "source": [
    "### 3.a. Generate 5 uncorrelated Gaussian random variables that simulate yield changes (they can be positive or negative with a mean close to 0 and a standard deviation that is small)."
   ]
  },
  {
   "cell_type": "markdown",
   "metadata": {},
   "source": [
    "To generate 5 uncorrelated Gaussian random variables we use `numpy.random.randn()`. We choose mean = 0.001 and std = 0.1 to meet the requirements. Let's simulate a daily yield change over a 6 month period (180 days) to match with section 3.e.\n"
   ]
  },
  {
   "cell_type": "code",
   "execution_count": 33,
   "metadata": {},
   "outputs": [
    {
     "data": {
      "text/html": [
       "<div>\n",
       "<style scoped>\n",
       "    .dataframe tbody tr th:only-of-type {\n",
       "        vertical-align: middle;\n",
       "    }\n",
       "\n",
       "    .dataframe tbody tr th {\n",
       "        vertical-align: top;\n",
       "    }\n",
       "\n",
       "    .dataframe thead th {\n",
       "        text-align: right;\n",
       "    }\n",
       "</style>\n",
       "<table border=\"1\" class=\"dataframe\">\n",
       "  <thead>\n",
       "    <tr style=\"text-align: right;\">\n",
       "      <th></th>\n",
       "      <th>asset_0</th>\n",
       "      <th>asset_1</th>\n",
       "      <th>asset_2</th>\n",
       "      <th>asset_3</th>\n",
       "      <th>asset_4</th>\n",
       "    </tr>\n",
       "  </thead>\n",
       "  <tbody>\n",
       "    <tr>\n",
       "      <th>0</th>\n",
       "      <td>-0.013251</td>\n",
       "      <td>0.019069</td>\n",
       "      <td>0.002937</td>\n",
       "      <td>-0.099223</td>\n",
       "      <td>0.071557</td>\n",
       "    </tr>\n",
       "    <tr>\n",
       "      <th>1</th>\n",
       "      <td>0.072058</td>\n",
       "      <td>-0.115240</td>\n",
       "      <td>0.193561</td>\n",
       "      <td>0.073089</td>\n",
       "      <td>-0.076528</td>\n",
       "    </tr>\n",
       "    <tr>\n",
       "      <th>2</th>\n",
       "      <td>-0.024251</td>\n",
       "      <td>0.009179</td>\n",
       "      <td>0.008324</td>\n",
       "      <td>0.223117</td>\n",
       "      <td>0.028966</td>\n",
       "    </tr>\n",
       "    <tr>\n",
       "      <th>3</th>\n",
       "      <td>0.025116</td>\n",
       "      <td>-0.084602</td>\n",
       "      <td>-0.157724</td>\n",
       "      <td>0.073849</td>\n",
       "      <td>0.004526</td>\n",
       "    </tr>\n",
       "    <tr>\n",
       "      <th>4</th>\n",
       "      <td>-0.054625</td>\n",
       "      <td>0.073218</td>\n",
       "      <td>0.103792</td>\n",
       "      <td>-0.039028</td>\n",
       "      <td>0.121360</td>\n",
       "    </tr>\n",
       "  </tbody>\n",
       "</table>\n",
       "</div>"
      ],
      "text/plain": [
       "    asset_0   asset_1   asset_2   asset_3   asset_4\n",
       "0 -0.013251  0.019069  0.002937 -0.099223  0.071557\n",
       "1  0.072058 -0.115240  0.193561  0.073089 -0.076528\n",
       "2 -0.024251  0.009179  0.008324  0.223117  0.028966\n",
       "3  0.025116 -0.084602 -0.157724  0.073849  0.004526\n",
       "4 -0.054625  0.073218  0.103792 -0.039028  0.121360"
      ]
     },
     "execution_count": 33,
     "metadata": {},
     "output_type": "execute_result"
    }
   ],
   "source": [
    "# Parameters\n",
    "n_samples = 180\n",
    "n_assets = 5\n",
    "mean = 0.001\n",
    "std = 0.1\n",
    "\n",
    "# Generate yield changes\n",
    "yield_changes1 = np.random.randn(n_samples, n_assets) * std + mean\n",
    "\n",
    "# Create a dataframe\n",
    "yield_changes_df1 = pd.DataFrame(yield_changes1, columns=[f'asset_{i}' for i in range(n_assets)])\n",
    "yield_changes_df1.head()\n"
   ]
  },
  {
   "cell_type": "code",
   "execution_count": 34,
   "metadata": {},
   "outputs": [
    {
     "data": {
      "text/html": [
       "<div>\n",
       "<style scoped>\n",
       "    .dataframe tbody tr th:only-of-type {\n",
       "        vertical-align: middle;\n",
       "    }\n",
       "\n",
       "    .dataframe tbody tr th {\n",
       "        vertical-align: top;\n",
       "    }\n",
       "\n",
       "    .dataframe thead th {\n",
       "        text-align: right;\n",
       "    }\n",
       "</style>\n",
       "<table border=\"1\" class=\"dataframe\">\n",
       "  <thead>\n",
       "    <tr style=\"text-align: right;\">\n",
       "      <th></th>\n",
       "      <th>asset_0</th>\n",
       "      <th>asset_1</th>\n",
       "      <th>asset_2</th>\n",
       "      <th>asset_3</th>\n",
       "      <th>asset_4</th>\n",
       "    </tr>\n",
       "  </thead>\n",
       "  <tbody>\n",
       "    <tr>\n",
       "      <th>count</th>\n",
       "      <td>180.000000</td>\n",
       "      <td>180.000000</td>\n",
       "      <td>180.000000</td>\n",
       "      <td>180.000000</td>\n",
       "      <td>180.000000</td>\n",
       "    </tr>\n",
       "    <tr>\n",
       "      <th>mean</th>\n",
       "      <td>0.009071</td>\n",
       "      <td>-0.001485</td>\n",
       "      <td>-0.003962</td>\n",
       "      <td>0.008021</td>\n",
       "      <td>0.008713</td>\n",
       "    </tr>\n",
       "    <tr>\n",
       "      <th>std</th>\n",
       "      <td>0.099502</td>\n",
       "      <td>0.095696</td>\n",
       "      <td>0.104690</td>\n",
       "      <td>0.105891</td>\n",
       "      <td>0.101276</td>\n",
       "    </tr>\n",
       "    <tr>\n",
       "      <th>min</th>\n",
       "      <td>-0.286603</td>\n",
       "      <td>-0.224089</td>\n",
       "      <td>-0.347843</td>\n",
       "      <td>-0.289330</td>\n",
       "      <td>-0.226399</td>\n",
       "    </tr>\n",
       "    <tr>\n",
       "      <th>25%</th>\n",
       "      <td>-0.054765</td>\n",
       "      <td>-0.070435</td>\n",
       "      <td>-0.070339</td>\n",
       "      <td>-0.059925</td>\n",
       "      <td>-0.055198</td>\n",
       "    </tr>\n",
       "    <tr>\n",
       "      <th>50%</th>\n",
       "      <td>0.006760</td>\n",
       "      <td>-0.010638</td>\n",
       "      <td>0.003052</td>\n",
       "      <td>0.015116</td>\n",
       "      <td>0.003912</td>\n",
       "    </tr>\n",
       "    <tr>\n",
       "      <th>75%</th>\n",
       "      <td>0.072241</td>\n",
       "      <td>0.052055</td>\n",
       "      <td>0.075080</td>\n",
       "      <td>0.077578</td>\n",
       "      <td>0.072350</td>\n",
       "    </tr>\n",
       "    <tr>\n",
       "      <th>max</th>\n",
       "      <td>0.274401</td>\n",
       "      <td>0.266828</td>\n",
       "      <td>0.238260</td>\n",
       "      <td>0.282962</td>\n",
       "      <td>0.307480</td>\n",
       "    </tr>\n",
       "  </tbody>\n",
       "</table>\n",
       "</div>"
      ],
      "text/plain": [
       "          asset_0     asset_1     asset_2     asset_3     asset_4\n",
       "count  180.000000  180.000000  180.000000  180.000000  180.000000\n",
       "mean     0.009071   -0.001485   -0.003962    0.008021    0.008713\n",
       "std      0.099502    0.095696    0.104690    0.105891    0.101276\n",
       "min     -0.286603   -0.224089   -0.347843   -0.289330   -0.226399\n",
       "25%     -0.054765   -0.070435   -0.070339   -0.059925   -0.055198\n",
       "50%      0.006760   -0.010638    0.003052    0.015116    0.003912\n",
       "75%      0.072241    0.052055    0.075080    0.077578    0.072350\n",
       "max      0.274401    0.266828    0.238260    0.282962    0.307480"
      ]
     },
     "execution_count": 34,
     "metadata": {},
     "output_type": "execute_result"
    }
   ],
   "source": [
    "# Get some statistics from the dataframe\n",
    "yield_changes_df1.describe()"
   ]
  },
  {
   "cell_type": "markdown",
   "metadata": {},
   "source": [
    "### 3.b. Run a Principal Components using EITHER the correlation OR covariance matrix."
   ]
  },
  {
   "cell_type": "markdown",
   "metadata": {},
   "source": [
    "Since the data is uncorrelated and they come from the same distribution, we can use covariance matrix to run the PCA.\n",
    "\n",
    "However, we chose to use the correlation matrix to make the analysis more general. Instead of calculating the correlatin matrix explicitly, we standardize the data (mean = 0 and std = 1) and apply PCA on it. To standaridize the data, we use the `StandardScaler()` class from `sklearn.preprocessing`."
   ]
  },
  {
   "cell_type": "code",
   "execution_count": 35,
   "metadata": {},
   "outputs": [
    {
     "name": "stdout",
     "output_type": "stream",
     "text": [
      "Scaled yield changes mean:  -3.947459643111668e-17\n",
      "Scaled yield changes std:  1.0\n"
     ]
    }
   ],
   "source": [
    "# Instantiate the scaler\n",
    "scaler1 = StandardScaler()\n",
    "# Fit and transform the data\n",
    "scaled_yield_changes1 = scaler1.fit_transform(yield_changes1)\n",
    "print('Scaled yield changes mean: ', scaled_yield_changes1.mean())\n",
    "print('Scaled yield changes std: ', scaled_yield_changes1.std())"
   ]
  },
  {
   "cell_type": "markdown",
   "metadata": {},
   "source": [
    "We can see that scaled_yield_changes1 has a mean close to 0 and a std close to 1. Now we can run the PCA. We do it by using the `PCA()` class from `sklearn.decomposition`. We use `n_components=n_assets` to ensure that the number of principal components is equal to the number of original variables."
   ]
  },
  {
   "cell_type": "code",
   "execution_count": 36,
   "metadata": {},
   "outputs": [],
   "source": [
    "# Instantiate the PCA\n",
    "pca1 = PCA()\n",
    "# Fit the data\n",
    "pca_yield_changes1 = pca1.fit(scaled_yield_changes1)\n"
   ]
  },
  {
   "cell_type": "markdown",
   "metadata": {},
   "source": [
    "The object `pca_yield_changes1` has been fit to the data and contain information about the principal components. Since Section 3.c asks for the amount of variance explained by each principal component, we can use the `explained_variance_ratio_` and `explained_variance_` attributes of the object."
   ]
  },
  {
   "cell_type": "code",
   "execution_count": 37,
   "metadata": {},
   "outputs": [
    {
     "name": "stdout",
     "output_type": "stream",
     "text": [
      "explained_variance1:  [1.28099232 1.12558193 0.96872433 0.86044108 0.7921933 ]\n",
      "explained_variance_ratio1:  [0.25477514 0.22386574 0.19266851 0.17113217 0.15755844]\n",
      "Variance explained by each component:\n",
      "Component 1: 25.48%\n",
      "Component 2: 22.39%\n",
      "Component 3: 19.27%\n",
      "Component 4: 17.11%\n",
      "Component 5: 15.76%\n"
     ]
    }
   ],
   "source": [
    "# Extract explained variance\n",
    "explained_variance1 = pca_yield_changes1.explained_variance_\n",
    "explained_variance_ratio1 = pca_yield_changes1.explained_variance_ratio_\n",
    "\n",
    "print('explained_variance1: ', explained_variance1)\n",
    "print('explained_variance_ratio1: ', explained_variance_ratio1)\n",
    "\n",
    "# Percentage of variance explained\n",
    "variance_explained_perc1 = explained_variance_ratio1 * 100\n",
    "print(\"Variance explained by each component:\")\n",
    "for i, var in enumerate(variance_explained_perc1, 1):\n",
    "    print(f\"Component {i}: {var:.2f}%\")"
   ]
  },
  {
   "cell_type": "markdown",
   "metadata": {},
   "source": [
    "### 3.c. Write a paragraph explaining how the variances of each component compare with each other. In this paragraph, you will address the following question: how much variance is explained by Component 1, Component 2, Component 3?"
   ]
  },
  {
   "cell_type": "markdown",
   "metadata": {},
   "source": [
    "This section is answered in the report pdf file."
   ]
  },
  {
   "cell_type": "markdown",
   "metadata": {},
   "source": [
    "Answer from Grok: In this simulated dataset, the five securities are uncorrelated and have identical variances (standard deviation of 0.01). PCA decomposes the data into five principal components, each representing a direction of variance. Because there’s no correlation, the total variance is evenly distributed across the components. Component 1 explains 21.12%, Component 2 explains 20.54%, and Component 3 explains 19.74%, with the remaining two components similarly close to 20%. The slight variations (e.g., 21.12% vs. 19.28%) arise from random sampling noise in the finite dataset. Ideally, with infinite uncorrelated data of equal variance, each component would explain exactly 20% (100% / 5). This near-equal distribution confirms that no si"
   ]
  },
  {
   "cell_type": "markdown",
   "metadata": {},
   "source": [
    "### 3.d. Produce a screeplot (see https://en.wikipedia.org/wiki/Scree_plot) of the variance explained for each component."
   ]
  },
  {
   "cell_type": "markdown",
   "metadata": {},
   "source": [
    "According to the provided wikipedia page, \"a scree plot is a line plot of the eigenvalues of factors or principal components in an analysis\" and it \"always displays the eigenvalues in a downward curve, ordering the eigenvalues from largest to smallest\". The attribute `explained_variance_` of the `PCA` object contains the eigenvalues of the principal components in a descending order. Therefore, to plot the scree plot, we plot the `explained_variance_` against the number of the principal component."
   ]
  },
  {
   "cell_type": "code",
   "execution_count": 38,
   "metadata": {},
   "outputs": [
    {
     "data": {
      "image/png": "[encoded data removed]",
      "text/plain": [
       "<Figure size 1000x600 with 1 Axes>"
      ]
     },
     "metadata": {},
     "output_type": "display_data"
    }
   ],
   "source": [
    "# Create scree plot\n",
    "plt.figure(figsize=(10, 6))\n",
    "plt.plot(range(1, len(explained_variance1) + 1), explained_variance1, 'bo-', linewidth=2)\n",
    "plt.title('Scree Plot of Explained Variance')\n",
    "plt.xlabel('Principal Component')\n",
    "plt.ylabel('Proportion of Variance Explained')\n",
    "plt.grid(True)\n",
    "plt.show()\n"
   ]
  },
  {
   "cell_type": "markdown",
   "metadata": {},
   "source": [
    "### 3.e. Collect the daily closing yields for 5 government securities, say over 6 months.\n"
   ]
  },
  {
   "cell_type": "markdown",
   "metadata": {},
   "source": [
    "**IMPORTANT**: We will leave the inital part of the code of this section commented out so that instructors can use this file to test the code without having to insert their own api key. Below the commented cells, which we used to download and prepare the date, we load the csv file with the yields data."
   ]
  },
  {
   "cell_type": "markdown",
   "metadata": {},
   "source": [
    "We are goin to use the FRED API to download the daily closing yields for 5 government securities. Our api key is stored in the `.env` file and we load it using the `load_dotenv()` function from the `dotenv` package.\n"
   ]
  },
  {
   "cell_type": "code",
   "execution_count": 39,
   "metadata": {},
   "outputs": [],
   "source": [
    "# # Load environment variables from .env file\n",
    "# load_dotenv()\n",
    "\n",
    "# # Get FRED API key from environment variables\n",
    "# FRED_API_KEY = os.getenv('FRED_API_KEY')"
   ]
  },
  {
   "cell_type": "markdown",
   "metadata": {},
   "source": [
    "Now we can initialize the FRED API with the api key. We use the `Fred()` class from the `fredapi` package and follow the instructions from Lesson 2 (Governement Data) from Module 1 of the Financial Data course."
   ]
  },
  {
   "cell_type": "code",
   "execution_count": 43,
   "metadata": {},
   "outputs": [
    {
     "data": {
      "text/html": [
       "<div>\n",
       "<style scoped>\n",
       "    .dataframe tbody tr th:only-of-type {\n",
       "        vertical-align: middle;\n",
       "    }\n",
       "\n",
       "    .dataframe tbody tr th {\n",
       "        vertical-align: top;\n",
       "    }\n",
       "\n",
       "    .dataframe thead th {\n",
       "        text-align: right;\n",
       "    }\n",
       "</style>\n",
       "<table border=\"1\" class=\"dataframe\">\n",
       "  <thead>\n",
       "    <tr style=\"text-align: right;\">\n",
       "      <th></th>\n",
       "      <th>1 Month</th>\n",
       "      <th>6 Month</th>\n",
       "      <th>2 Year</th>\n",
       "      <th>10 Year</th>\n",
       "      <th>30 Year</th>\n",
       "    </tr>\n",
       "  </thead>\n",
       "  <tbody>\n",
       "    <tr>\n",
       "      <th>2020-01-02</th>\n",
       "      <td>1.53</td>\n",
       "      <td>1.57</td>\n",
       "      <td>1.58</td>\n",
       "      <td>1.88</td>\n",
       "      <td>2.33</td>\n",
       "    </tr>\n",
       "    <tr>\n",
       "      <th>2020-01-03</th>\n",
       "      <td>1.52</td>\n",
       "      <td>1.55</td>\n",
       "      <td>1.53</td>\n",
       "      <td>1.80</td>\n",
       "      <td>2.26</td>\n",
       "    </tr>\n",
       "    <tr>\n",
       "      <th>2020-01-06</th>\n",
       "      <td>1.54</td>\n",
       "      <td>1.56</td>\n",
       "      <td>1.54</td>\n",
       "      <td>1.81</td>\n",
       "      <td>2.28</td>\n",
       "    </tr>\n",
       "    <tr>\n",
       "      <th>2020-01-07</th>\n",
       "      <td>1.52</td>\n",
       "      <td>1.56</td>\n",
       "      <td>1.54</td>\n",
       "      <td>1.83</td>\n",
       "      <td>2.31</td>\n",
       "    </tr>\n",
       "    <tr>\n",
       "      <th>2020-01-08</th>\n",
       "      <td>1.50</td>\n",
       "      <td>1.56</td>\n",
       "      <td>1.58</td>\n",
       "      <td>1.87</td>\n",
       "      <td>2.35</td>\n",
       "    </tr>\n",
       "  </tbody>\n",
       "</table>\n",
       "</div>"
      ],
      "text/plain": [
       "            1 Month  6 Month  2 Year  10 Year  30 Year\n",
       "2020-01-02     1.53     1.57    1.58     1.88     2.33\n",
       "2020-01-03     1.52     1.55    1.53     1.80     2.26\n",
       "2020-01-06     1.54     1.56    1.54     1.81     2.28\n",
       "2020-01-07     1.52     1.56    1.54     1.83     2.31\n",
       "2020-01-08     1.50     1.56    1.58     1.87     2.35"
      ]
     },
     "execution_count": 43,
     "metadata": {},
     "output_type": "execute_result"
    }
   ],
   "source": [
    "\n",
    "# # Initialize the FRED API with your key\n",
    "# fred = Fred(api_key=FRED_API_KEY) # Replace my APIKEY with \"YOUR_API_KEY\"\n",
    "\n",
    "# # List of Treasury yield series IDs\n",
    "# series_ids = ['DGS1MO', 'DGS6MO', 'DGS2', 'DGS10', 'DGS30']\n",
    "\n",
    "# # Function to get data for a single series\n",
    "# def get_yield_data(series_id):\n",
    "#     data = fred.get_series(series_id, observation_start=\"2020-01-02\", observation_end=\"2025-04-01\")\n",
    "#     return data\n",
    "\n",
    "# # Get data for all series\n",
    "# yields_dict = {series_id: get_yield_data(series_id) for series_id in series_ids}\n",
    "\n",
    "# # Combine into a single DataFrame\n",
    "# yields = pd.DataFrame(yields_dict)\n",
    "\n",
    "# # Rename columns for clarity\n",
    "# yields.columns = ['1 Month', '6 Month', '2 Year', '10 Year', '30 Year']\n",
    "\n",
    "# # Convert index to datetime\n",
    "# yields.index = pd.to_datetime(yields.index)\n",
    "\n",
    "# yields.head()"
   ]
  },
  {
   "cell_type": "markdown",
   "metadata": {},
   "source": [
    "Let's check for missing values and fill them with the last available value."
   ]
  },
  {
   "cell_type": "code",
   "execution_count": 44,
   "metadata": {},
   "outputs": [
    {
     "data": {
      "text/plain": [
       "1 Month    56\n",
       "6 Month    56\n",
       "2 Year     56\n",
       "10 Year    56\n",
       "30 Year    56\n",
       "dtype: int64"
      ]
     },
     "execution_count": 44,
     "metadata": {},
     "output_type": "execute_result"
    }
   ],
   "source": [
    "# # Check for missing values\n",
    "# yields.isna().sum(axis = 0)"
   ]
  },
  {
   "cell_type": "code",
   "execution_count": 45,
   "metadata": {},
   "outputs": [
    {
     "name": "stderr",
     "output_type": "stream",
     "text": [
      "C:\\Users\\hmtme\\AppData\\Local\\Temp\\ipykernel_30468\\2888227528.py:2: FutureWarning: DataFrame.fillna with 'method' is deprecated and will raise in a future version. Use obj.ffill() or obj.bfill() instead.\n",
      "  yields = yields.fillna(method='ffill')\n"
     ]
    },
    {
     "data": {
      "text/plain": [
       "1 Month    0\n",
       "6 Month    0\n",
       "2 Year     0\n",
       "10 Year    0\n",
       "30 Year    0\n",
       "dtype: int64"
      ]
     },
     "execution_count": 45,
     "metadata": {},
     "output_type": "execute_result"
    }
   ],
   "source": [
    "# # Fill missing values with the last available value\n",
    "# yields = yields.fillna(method='ffill')\n",
    "\n",
    "# # Check for missing values again\n",
    "# yields.isna().sum(axis = 0)"
   ]
  },
  {
   "cell_type": "markdown",
   "metadata": {},
   "source": [
    "Now that we have no missing values, we will download csv file with the yields data and load it so that, next time we run the code, we don't need to download the data again. Also, instructors can use this file to test the code without having to insert their own api key."
   ]
  },
  {
   "cell_type": "code",
   "execution_count": 46,
   "metadata": {},
   "outputs": [],
   "source": [
    "# # Download csv file with the yields data\n",
    "# yields.to_csv('yields.csv')"
   ]
  },
  {
   "cell_type": "code",
   "execution_count": 48,
   "metadata": {},
   "outputs": [
    {
     "data": {
      "text/html": [
       "<div>\n",
       "<style scoped>\n",
       "    .dataframe tbody tr th:only-of-type {\n",
       "        vertical-align: middle;\n",
       "    }\n",
       "\n",
       "    .dataframe tbody tr th {\n",
       "        vertical-align: top;\n",
       "    }\n",
       "\n",
       "    .dataframe thead th {\n",
       "        text-align: right;\n",
       "    }\n",
       "</style>\n",
       "<table border=\"1\" class=\"dataframe\">\n",
       "  <thead>\n",
       "    <tr style=\"text-align: right;\">\n",
       "      <th></th>\n",
       "      <th>1 Month</th>\n",
       "      <th>6 Month</th>\n",
       "      <th>2 Year</th>\n",
       "      <th>10 Year</th>\n",
       "      <th>30 Year</th>\n",
       "    </tr>\n",
       "  </thead>\n",
       "  <tbody>\n",
       "    <tr>\n",
       "      <th>2020-01-02</th>\n",
       "      <td>1.53</td>\n",
       "      <td>1.57</td>\n",
       "      <td>1.58</td>\n",
       "      <td>1.88</td>\n",
       "      <td>2.33</td>\n",
       "    </tr>\n",
       "    <tr>\n",
       "      <th>2020-01-03</th>\n",
       "      <td>1.52</td>\n",
       "      <td>1.55</td>\n",
       "      <td>1.53</td>\n",
       "      <td>1.80</td>\n",
       "      <td>2.26</td>\n",
       "    </tr>\n",
       "    <tr>\n",
       "      <th>2020-01-06</th>\n",
       "      <td>1.54</td>\n",
       "      <td>1.56</td>\n",
       "      <td>1.54</td>\n",
       "      <td>1.81</td>\n",
       "      <td>2.28</td>\n",
       "    </tr>\n",
       "    <tr>\n",
       "      <th>2020-01-07</th>\n",
       "      <td>1.52</td>\n",
       "      <td>1.56</td>\n",
       "      <td>1.54</td>\n",
       "      <td>1.83</td>\n",
       "      <td>2.31</td>\n",
       "    </tr>\n",
       "    <tr>\n",
       "      <th>2020-01-08</th>\n",
       "      <td>1.50</td>\n",
       "      <td>1.56</td>\n",
       "      <td>1.58</td>\n",
       "      <td>1.87</td>\n",
       "      <td>2.35</td>\n",
       "    </tr>\n",
       "  </tbody>\n",
       "</table>\n",
       "</div>"
      ],
      "text/plain": [
       "            1 Month  6 Month  2 Year  10 Year  30 Year\n",
       "2020-01-02     1.53     1.57    1.58     1.88     2.33\n",
       "2020-01-03     1.52     1.55    1.53     1.80     2.26\n",
       "2020-01-06     1.54     1.56    1.54     1.81     2.28\n",
       "2020-01-07     1.52     1.56    1.54     1.83     2.31\n",
       "2020-01-08     1.50     1.56    1.58     1.87     2.35"
      ]
     },
     "execution_count": 48,
     "metadata": {},
     "output_type": "execute_result"
    }
   ],
   "source": [
    "\n",
    "# Load the csv file\n",
    "yields = pd.read_csv('yields.csv', index_col=0, parse_dates=True)\n",
    "yields.head()"
   ]
  },
  {
   "cell_type": "markdown",
   "metadata": {},
   "source": [
    "### 3.f Be sure to compute the daily yield changes!"
   ]
  },
  {
   "cell_type": "code",
   "execution_count": 50,
   "metadata": {},
   "outputs": [
    {
     "data": {
      "text/html": [
       "<div>\n",
       "<style scoped>\n",
       "    .dataframe tbody tr th:only-of-type {\n",
       "        vertical-align: middle;\n",
       "    }\n",
       "\n",
       "    .dataframe tbody tr th {\n",
       "        vertical-align: top;\n",
       "    }\n",
       "\n",
       "    .dataframe thead th {\n",
       "        text-align: right;\n",
       "    }\n",
       "</style>\n",
       "<table border=\"1\" class=\"dataframe\">\n",
       "  <thead>\n",
       "    <tr style=\"text-align: right;\">\n",
       "      <th></th>\n",
       "      <th>1 Month</th>\n",
       "      <th>6 Month</th>\n",
       "      <th>2 Year</th>\n",
       "      <th>10 Year</th>\n",
       "      <th>30 Year</th>\n",
       "    </tr>\n",
       "  </thead>\n",
       "  <tbody>\n",
       "    <tr>\n",
       "      <th>2020-01-03</th>\n",
       "      <td>-0.01</td>\n",
       "      <td>-0.02</td>\n",
       "      <td>-0.05</td>\n",
       "      <td>-0.08</td>\n",
       "      <td>-0.07</td>\n",
       "    </tr>\n",
       "    <tr>\n",
       "      <th>2020-01-06</th>\n",
       "      <td>0.02</td>\n",
       "      <td>0.01</td>\n",
       "      <td>0.01</td>\n",
       "      <td>0.01</td>\n",
       "      <td>0.02</td>\n",
       "    </tr>\n",
       "    <tr>\n",
       "      <th>2020-01-07</th>\n",
       "      <td>-0.02</td>\n",
       "      <td>0.00</td>\n",
       "      <td>0.00</td>\n",
       "      <td>0.02</td>\n",
       "      <td>0.03</td>\n",
       "    </tr>\n",
       "    <tr>\n",
       "      <th>2020-01-08</th>\n",
       "      <td>-0.02</td>\n",
       "      <td>0.00</td>\n",
       "      <td>0.04</td>\n",
       "      <td>0.04</td>\n",
       "      <td>0.04</td>\n",
       "    </tr>\n",
       "    <tr>\n",
       "      <th>2020-01-09</th>\n",
       "      <td>0.03</td>\n",
       "      <td>0.00</td>\n",
       "      <td>0.00</td>\n",
       "      <td>-0.02</td>\n",
       "      <td>0.03</td>\n",
       "    </tr>\n",
       "  </tbody>\n",
       "</table>\n",
       "</div>"
      ],
      "text/plain": [
       "            1 Month  6 Month  2 Year  10 Year  30 Year\n",
       "2020-01-03    -0.01    -0.02   -0.05    -0.08    -0.07\n",
       "2020-01-06     0.02     0.01    0.01     0.01     0.02\n",
       "2020-01-07    -0.02     0.00    0.00     0.02     0.03\n",
       "2020-01-08    -0.02     0.00    0.04     0.04     0.04\n",
       "2020-01-09     0.03     0.00    0.00    -0.02     0.03"
      ]
     },
     "execution_count": 50,
     "metadata": {},
     "output_type": "execute_result"
    }
   ],
   "source": [
    "# Calculate daily yield changes and drop the first row with missing values\n",
    "yield_changes2 = yields.diff().dropna()\n",
    "\n",
    "# Display the first few rows of yield changes\n",
    "yield_changes2.head()"
   ]
  },
  {
   "cell_type": "markdown",
   "metadata": {},
   "source": [
    "### Re-run the Principal Components using EITHER the correlation or covariance matrix."
   ]
  },
  {
   "cell_type": "markdown",
   "metadata": {},
   "source": [
    "Following 3.b we will use the correlation matrix to run the PCA. Thus, we will standardize the data (mean = 0 and std = 1) and, afterwards, apply PCA on it.\n"
   ]
  },
  {
   "cell_type": "code",
   "execution_count": 51,
   "metadata": {},
   "outputs": [
    {
     "name": "stdout",
     "output_type": "stream",
     "text": [
      "Scaled yield changes mean:  1.2465662030878951e-17\n",
      "Scaled yield changes std:  1.0\n"
     ]
    }
   ],
   "source": [
    "# Instantiate the scaler\n",
    "scaler2 = StandardScaler()\n",
    "# Fit and transform the data\n",
    "scaled_yield_changes2 = scaler2.fit_transform(yield_changes2)\n",
    "print('Scaled yield changes mean: ', scaled_yield_changes2.mean())\n",
    "print('Scaled yield changes std: ', scaled_yield_changes2.std())"
   ]
  },
  {
   "cell_type": "markdown",
   "metadata": {},
   "source": [
    "We can see that scaled_yield_changes1 has a mean close to 0 and a std close to 1. Now we can run the PCA the same way we did in 3.b. "
   ]
  },
  {
   "cell_type": "code",
   "execution_count": 52,
   "metadata": {},
   "outputs": [],
   "source": [
    "# Instantiate the PCA\n",
    "pca2 = PCA()\n",
    "# Fit the data\n",
    "pca_yield_changes2 = pca2.fit(scaled_yield_changes2)"
   ]
  },
  {
   "cell_type": "markdown",
   "metadata": {},
   "source": [
    "PCA has been fit to the data and we can proceed to extract the explained variance and the explained variance ratio to answer 3.h."
   ]
  },
  {
   "cell_type": "code",
   "execution_count": 53,
   "metadata": {},
   "outputs": [
    {
     "name": "stdout",
     "output_type": "stream",
     "text": [
      "explained_variance2:  [2.89971545 1.00624442 0.78311992 0.28064146 0.03393639]\n",
      "explained_variance_ratio2:  [0.57951915 0.20110177 0.15650949 0.05608726 0.00678232]\n",
      "Variance explained by each component:\n",
      "Component 1: 57.95%\n",
      "Component 2: 20.11%\n",
      "Component 3: 15.65%\n",
      "Component 4: 5.61%\n",
      "Component 5: 0.68%\n"
     ]
    }
   ],
   "source": [
    "# Extract explained variance\n",
    "explained_variance2 = pca_yield_changes2.explained_variance_\n",
    "explained_variance_ratio2 = pca_yield_changes2.explained_variance_ratio_\n",
    "\n",
    "print('explained_variance2: ', explained_variance2)\n",
    "print('explained_variance_ratio2: ', explained_variance_ratio2)\n",
    "\n",
    "# Percentage of variance explained\n",
    "variance_explained_perc2 = explained_variance_ratio2 * 100\n",
    "print(\"Variance explained by each component:\")\n",
    "for i, var in enumerate(variance_explained_perc2, 1):\n",
    "    print(f\"Component {i}: {var:.2f}%\")"
   ]
  },
  {
   "cell_type": "markdown",
   "metadata": {},
   "source": [
    "### 3.h. How do the variances of each component compare? In other words, how much variance is explained by Component 1, Component 2, Component 3, etc.?\n",
    "\n",
    "This section is answered in the report pdf file."
   ]
  },
  {
   "cell_type": "markdown",
   "metadata": {},
   "source": [
    "### 3.i. Produce a screeplot of the variance explained for each component."
   ]
  },
  {
   "cell_type": "markdown",
   "metadata": {},
   "source": [
    "Following 3.d, we plot the scree plot of the variance explained for each component."
   ]
  },
  {
   "cell_type": "code",
   "execution_count": 54,
   "metadata": {},
   "outputs": [
    {
     "data": {
      "image/png": "[encoded data removed]",
      "text/plain": [
       "<Figure size 1000x600 with 1 Axes>"
      ]
     },
     "metadata": {},
     "output_type": "display_data"
    }
   ],
   "source": [
    "# Create scree plot\n",
    "plt.figure(figsize=(10, 6))\n",
    "plt.plot(range(1, len(explained_variance2) + 1), explained_variance2, 'bo-', linewidth=2)\n",
    "plt.title('Scree Plot of Explained Variance')\n",
    "plt.xlabel('Principal Component')\n",
    "plt.ylabel('Proportion of Variance Explained')\n",
    "plt.grid(True)\n",
    "plt.show()\n"
   ]
  },
  {
   "cell_type": "markdown",
   "metadata": {},
   "source": [
    "### 3.j. How does the screeplot from the uncorrelated data compare with the screeplot from the government data?\n",
    "\n",
    "This section is answered in the report pdf file."
   ]
  }
 ],
 "metadata": {
  "kernelspec": {
   "display_name": ".venv",
   "language": "python",
   "name": "python3"
  },
  "language_info": {
   "codemirror_mode": {
    "name": "ipython",
    "version": 3
   },
   "file_extension": ".py",
   "mimetype": "text/x-python",
   "name": "python",
   "nbconvert_exporter": "python",
   "pygments_lexer": "ipython3",
   "version": "3.13.2"
  }
 },
 "nbformat": 4,
 "nbformat_minor": 2
}
