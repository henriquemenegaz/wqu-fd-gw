{
 "cells": [
  {
   "cell_type": "code",
   "execution_count": 17,
   "metadata": {},
   "outputs": [],
   "source": [
    "import numpy as np\n",
    "import pandas as pd\n",
    "from sklearn.preprocessing import StandardScaler\n",
    "from sklearn.decomposition import PCA\n",
    "from matplotlib import pyplot as plt\n"
   ]
  },
  {
   "cell_type": "markdown",
   "metadata": {},
   "source": [
    "## TAKS 3. Exploiting Correlation"
   ]
  },
  {
   "cell_type": "markdown",
   "metadata": {},
   "source": [
    "### 3.a. Generate 5 uncorrelated Gaussian random variables that simulate yield changes (they can be positive or negative with a mean close to 0 and a standard deviation that is small)."
   ]
  },
  {
   "cell_type": "markdown",
   "metadata": {},
   "source": [
    "To generate 5 uncorrelated Gaussian random variables we use `numpy.random.randn()`. We choose mean = 0.001 and std = 0.1 to meet the requirements. Let's simulate a daily yield change over a 6 month period (180 days) to match with section 3.e.\n"
   ]
  },
  {
   "cell_type": "code",
   "execution_count": 11,
   "metadata": {},
   "outputs": [
    {
     "data": {
      "text/html": [
       "<div>\n",
       "<style scoped>\n",
       "    .dataframe tbody tr th:only-of-type {\n",
       "        vertical-align: middle;\n",
       "    }\n",
       "\n",
       "    .dataframe tbody tr th {\n",
       "        vertical-align: top;\n",
       "    }\n",
       "\n",
       "    .dataframe thead th {\n",
       "        text-align: right;\n",
       "    }\n",
       "</style>\n",
       "<table border=\"1\" class=\"dataframe\">\n",
       "  <thead>\n",
       "    <tr style=\"text-align: right;\">\n",
       "      <th></th>\n",
       "      <th>asset_0</th>\n",
       "      <th>asset_1</th>\n",
       "      <th>asset_2</th>\n",
       "      <th>asset_3</th>\n",
       "      <th>asset_4</th>\n",
       "    </tr>\n",
       "  </thead>\n",
       "  <tbody>\n",
       "    <tr>\n",
       "      <th>0</th>\n",
       "      <td>0.099757</td>\n",
       "      <td>0.034862</td>\n",
       "      <td>-0.091323</td>\n",
       "      <td>-0.035406</td>\n",
       "      <td>-0.024095</td>\n",
       "    </tr>\n",
       "    <tr>\n",
       "      <th>1</th>\n",
       "      <td>0.039477</td>\n",
       "      <td>-0.025544</td>\n",
       "      <td>0.012068</td>\n",
       "      <td>-0.095818</td>\n",
       "      <td>-0.043994</td>\n",
       "    </tr>\n",
       "    <tr>\n",
       "      <th>2</th>\n",
       "      <td>0.011219</td>\n",
       "      <td>-0.038973</td>\n",
       "      <td>0.200704</td>\n",
       "      <td>0.145038</td>\n",
       "      <td>0.052668</td>\n",
       "    </tr>\n",
       "    <tr>\n",
       "      <th>3</th>\n",
       "      <td>0.013800</td>\n",
       "      <td>-0.127903</td>\n",
       "      <td>0.049933</td>\n",
       "      <td>-0.135731</td>\n",
       "      <td>0.063506</td>\n",
       "    </tr>\n",
       "    <tr>\n",
       "      <th>4</th>\n",
       "      <td>0.053163</td>\n",
       "      <td>-0.069911</td>\n",
       "      <td>0.178559</td>\n",
       "      <td>-0.209741</td>\n",
       "      <td>-0.015474</td>\n",
       "    </tr>\n",
       "  </tbody>\n",
       "</table>\n",
       "</div>"
      ],
      "text/plain": [
       "    asset_0   asset_1   asset_2   asset_3   asset_4\n",
       "0  0.099757  0.034862 -0.091323 -0.035406 -0.024095\n",
       "1  0.039477 -0.025544  0.012068 -0.095818 -0.043994\n",
       "2  0.011219 -0.038973  0.200704  0.145038  0.052668\n",
       "3  0.013800 -0.127903  0.049933 -0.135731  0.063506\n",
       "4  0.053163 -0.069911  0.178559 -0.209741 -0.015474"
      ]
     },
     "execution_count": 11,
     "metadata": {},
     "output_type": "execute_result"
    }
   ],
   "source": [
    "# Parameters\n",
    "n_samples = 180\n",
    "n_assets = 5\n",
    "mean = 0.001\n",
    "std = 0.1\n",
    "\n",
    "# Generate yield changes\n",
    "yield_changes1 = np.random.randn(n_samples, n_assets) * std + mean\n",
    "\n",
    "# Create a dataframe\n",
    "yield_changes_df1 = pd.DataFrame(yield_changes1, columns=[f'asset_{i}' for i in range(n_assets)])\n",
    "yield_changes_df1.head()\n"
   ]
  },
  {
   "cell_type": "code",
   "execution_count": 12,
   "metadata": {},
   "outputs": [
    {
     "data": {
      "text/html": [
       "<div>\n",
       "<style scoped>\n",
       "    .dataframe tbody tr th:only-of-type {\n",
       "        vertical-align: middle;\n",
       "    }\n",
       "\n",
       "    .dataframe tbody tr th {\n",
       "        vertical-align: top;\n",
       "    }\n",
       "\n",
       "    .dataframe thead th {\n",
       "        text-align: right;\n",
       "    }\n",
       "</style>\n",
       "<table border=\"1\" class=\"dataframe\">\n",
       "  <thead>\n",
       "    <tr style=\"text-align: right;\">\n",
       "      <th></th>\n",
       "      <th>asset_0</th>\n",
       "      <th>asset_1</th>\n",
       "      <th>asset_2</th>\n",
       "      <th>asset_3</th>\n",
       "      <th>asset_4</th>\n",
       "    </tr>\n",
       "  </thead>\n",
       "  <tbody>\n",
       "    <tr>\n",
       "      <th>count</th>\n",
       "      <td>180.000000</td>\n",
       "      <td>180.000000</td>\n",
       "      <td>180.000000</td>\n",
       "      <td>180.000000</td>\n",
       "      <td>180.000000</td>\n",
       "    </tr>\n",
       "    <tr>\n",
       "      <th>mean</th>\n",
       "      <td>-0.005511</td>\n",
       "      <td>-0.002123</td>\n",
       "      <td>0.003359</td>\n",
       "      <td>-0.000143</td>\n",
       "      <td>0.014189</td>\n",
       "    </tr>\n",
       "    <tr>\n",
       "      <th>std</th>\n",
       "      <td>0.097606</td>\n",
       "      <td>0.100714</td>\n",
       "      <td>0.098546</td>\n",
       "      <td>0.097111</td>\n",
       "      <td>0.103341</td>\n",
       "    </tr>\n",
       "    <tr>\n",
       "      <th>min</th>\n",
       "      <td>-0.302368</td>\n",
       "      <td>-0.306582</td>\n",
       "      <td>-0.256568</td>\n",
       "      <td>-0.250628</td>\n",
       "      <td>-0.273262</td>\n",
       "    </tr>\n",
       "    <tr>\n",
       "      <th>25%</th>\n",
       "      <td>-0.069702</td>\n",
       "      <td>-0.071698</td>\n",
       "      <td>-0.058275</td>\n",
       "      <td>-0.072002</td>\n",
       "      <td>-0.048684</td>\n",
       "    </tr>\n",
       "    <tr>\n",
       "      <th>50%</th>\n",
       "      <td>0.001584</td>\n",
       "      <td>-0.010142</td>\n",
       "      <td>0.010782</td>\n",
       "      <td>-0.001743</td>\n",
       "      <td>0.014332</td>\n",
       "    </tr>\n",
       "    <tr>\n",
       "      <th>75%</th>\n",
       "      <td>0.059408</td>\n",
       "      <td>0.061354</td>\n",
       "      <td>0.063983</td>\n",
       "      <td>0.078371</td>\n",
       "      <td>0.075638</td>\n",
       "    </tr>\n",
       "    <tr>\n",
       "      <th>max</th>\n",
       "      <td>0.250905</td>\n",
       "      <td>0.319419</td>\n",
       "      <td>0.233191</td>\n",
       "      <td>0.265713</td>\n",
       "      <td>0.286926</td>\n",
       "    </tr>\n",
       "  </tbody>\n",
       "</table>\n",
       "</div>"
      ],
      "text/plain": [
       "          asset_0     asset_1     asset_2     asset_3     asset_4\n",
       "count  180.000000  180.000000  180.000000  180.000000  180.000000\n",
       "mean    -0.005511   -0.002123    0.003359   -0.000143    0.014189\n",
       "std      0.097606    0.100714    0.098546    0.097111    0.103341\n",
       "min     -0.302368   -0.306582   -0.256568   -0.250628   -0.273262\n",
       "25%     -0.069702   -0.071698   -0.058275   -0.072002   -0.048684\n",
       "50%      0.001584   -0.010142    0.010782   -0.001743    0.014332\n",
       "75%      0.059408    0.061354    0.063983    0.078371    0.075638\n",
       "max      0.250905    0.319419    0.233191    0.265713    0.286926"
      ]
     },
     "execution_count": 12,
     "metadata": {},
     "output_type": "execute_result"
    }
   ],
   "source": [
    "# Get some statistics from the dataframe\n",
    "yield_changes_df1.describe()"
   ]
  },
  {
   "cell_type": "markdown",
   "metadata": {},
   "source": [
    "### 3.b. Run a Principal Components using EITHER the correlation OR covariance matrix."
   ]
  },
  {
   "cell_type": "markdown",
   "metadata": {},
   "source": [
    "Since the data is uncorrelated and they come from the same distribution, we can use covariance matrix to run the PCA.\n",
    "\n",
    "However, we chose to use the correlation matrix to make the analysis more general. Instead of calculating the correlatin matrix explicitly, we standardize the data (mean = 0 and std = 1) and apply PCA on it. To standaridize the data, we use the `StandardScaler()` class from `sklearn.preprocessing`."
   ]
  },
  {
   "cell_type": "code",
   "execution_count": 14,
   "metadata": {},
   "outputs": [
    {
     "name": "stdout",
     "output_type": "stream",
     "text": [
      "Scaled yield changes mean:  4.934324553889585e-19\n",
      "Scaled yield changes std:  0.9999999999999999\n"
     ]
    }
   ],
   "source": [
    "# Instantiate the scaler\n",
    "scaler1 = StandardScaler()\n",
    "# Fit and transform the data\n",
    "scaled_yield_changes1 = scaler1.fit_transform(yield_changes1)\n",
    "print('Scaled yield changes mean: ', scaled_yield_changes1.mean())\n",
    "print('Scaled yield changes std: ', scaled_yield_changes1.std())"
   ]
  },
  {
   "cell_type": "markdown",
   "metadata": {},
   "source": [
    "We can see that scaled_yield_changes1 has a mean close to 0 and a std close to 1. Now we can run the PCA. We do it by using the `PCA()` class from `sklearn.decomposition`. We use `n_components=n_assets` to ensure that the number of principal components is equal to the number of original variables."
   ]
  },
  {
   "cell_type": "code",
   "execution_count": 15,
   "metadata": {},
   "outputs": [],
   "source": [
    "# Instantiate the PCA\n",
    "pca1 = PCA()\n",
    "# Fit the data\n",
    "pca_yield_changes1 = pca1.fit(scaled_yield_changes1)\n"
   ]
  },
  {
   "cell_type": "markdown",
   "metadata": {},
   "source": [
    "The object `pca_yield_changes1` has been fit to the data and contain information about the principal components. Since Section 3.c asks for the amount of variance explained by each principal component, we can use the `explained_variance_ratio_` and `explained_variance_` attributes of the object."
   ]
  },
  {
   "cell_type": "code",
   "execution_count": 23,
   "metadata": {},
   "outputs": [
    {
     "name": "stdout",
     "output_type": "stream",
     "text": [
      "explained_variance1:  [1.29197518 1.04488574 0.92509534 0.91183644 0.85414026]\n",
      "explained_variance_ratio1:  [0.25695951 0.20781616 0.18399118 0.18135414 0.16987901]\n",
      "Variance explained by each component:\n",
      "Component 1: 25.70%\n",
      "Component 2: 20.78%\n",
      "Component 3: 18.40%\n",
      "Component 4: 18.14%\n",
      "Component 5: 16.99%\n"
     ]
    }
   ],
   "source": [
    "# Extract explained variance\n",
    "explained_variance1 = pca_yield_changes1.explained_variance_\n",
    "explained_variance_ratio1 = pca_yield_changes1.explained_variance_ratio_\n",
    "\n",
    "print('explained_variance1: ', explained_variance1)\n",
    "print('explained_variance_ratio1: ', explained_variance_ratio1)\n",
    "\n",
    "# Percentage of variance explained\n",
    "variance_explained_perc1 = explained_variance_ratio1 * 100\n",
    "print(\"Variance explained by each component:\")\n",
    "for i, var in enumerate(variance_explained_perc1, 1):\n",
    "    print(f\"Component {i}: {var:.2f}%\")"
   ]
  },
  {
   "cell_type": "markdown",
   "metadata": {},
   "source": [
    "### 3.c. Write a paragraph explaining how the variances of each component compare with each other. In this paragraph, you will address the following question: how much variance is explained by Component 1, Component 2, Component 3?"
   ]
  },
  {
   "cell_type": "markdown",
   "metadata": {},
   "source": [
    "This section is answered in the report pdf file."
   ]
  },
  {
   "cell_type": "markdown",
   "metadata": {},
   "source": [
    "Answer from Grok: In this simulated dataset, the five securities are uncorrelated and have identical variances (standard deviation of 0.01). PCA decomposes the data into five principal components, each representing a direction of variance. Because there’s no correlation, the total variance is evenly distributed across the components. Component 1 explains 21.12%, Component 2 explains 20.54%, and Component 3 explains 19.74%, with the remaining two components similarly close to 20%. The slight variations (e.g., 21.12% vs. 19.28%) arise from random sampling noise in the finite dataset. Ideally, with infinite uncorrelated data of equal variance, each component would explain exactly 20% (100% / 5). This near-equal distribution confirms that no si"
   ]
  },
  {
   "cell_type": "markdown",
   "metadata": {},
   "source": [
    "### 3.d. Produce a screeplot (see https://en.wikipedia.org/wiki/Scree_plot) of the variance explained for each component."
   ]
  },
  {
   "cell_type": "markdown",
   "metadata": {},
   "source": [
    "According to the provided wikipedia page, \"a scree plot is a line plot of the eigenvalues of factors or principal components in an analysis\" and it \"always displays the eigenvalues in a downward curve, ordering the eigenvalues from largest to smallest\". The attribute `explained_variance_` of the `PCA` object contains the eigenvalues of the principal components in a descending order. Therefore, to plot the scree plot, we plot the `explained_variance_` against the number of the principal component."
   ]
  },
  {
   "cell_type": "code",
   "execution_count": 28,
   "metadata": {},
   "outputs": [
    {
     "data": {
      "image/png": "[encoded data removed]",
      "text/plain": [
       "<Figure size 1000x600 with 1 Axes>"
      ]
     },
     "metadata": {},
     "output_type": "display_data"
    }
   ],
   "source": [
    "# Create scree plot\n",
    "plt.figure(figsize=(10, 6))\n",
    "plt.plot(range(1, len(explained_variance1) + 1), explained_variance1, 'bo-', linewidth=2)\n",
    "plt.title('Scree Plot of Explained Variance')\n",
    "plt.xlabel('Principal Component')\n",
    "plt.ylabel('Proportion of Variance Explained')\n",
    "plt.grid(True)\n",
    "plt.show()\n"
   ]
  }
 ],
 "metadata": {
  "kernelspec": {
   "display_name": ".venv",
   "language": "python",
   "name": "python3"
  },
  "language_info": {
   "codemirror_mode": {
    "name": "ipython",
    "version": 3
   },
   "file_extension": ".py",
   "mimetype": "text/x-python",
   "name": "python",
   "nbconvert_exporter": "python",
   "pygments_lexer": "ipython3",
   "version": "3.13.2"
  }
 },
 "nbformat": 4,
 "nbformat_minor": 2
}
